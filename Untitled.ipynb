{
 "cells": [
  {
   "cell_type": "code",
   "execution_count": null,
   "metadata": {},
   "outputs": [],
   "source": [
    "import numpy as np\n",
    "import pandas as pd\n",
    "from sklearn.preprocessing import MinMaxScaler"
   ]
  },
  {
   "cell_type": "code",
   "execution_count": 21,
   "metadata": {},
   "outputs": [],
   "source": [
    "df = pd.read_csv('iris3.csv')\n",
    "df.drop('Id',axis=1,inplace=True)\n",
    "df.columns = [\"SepalLength\",\"SepalWidthCm\",\"PetalLength\",\"PetalWidthCm\",\"Species\"]"
   ]
  },
  {
   "cell_type": "code",
   "execution_count": 22,
   "metadata": {},
   "outputs": [
    {
     "name": "stdout",
     "output_type": "stream",
     "text": [
      "     SepalLength  SepalWidthCm  PetalLength  PetalWidthCm  Species\n",
      "0       0.222222      0.625000     0.067797      0.041667      0.0\n",
      "1       0.166667      0.416667     0.067797      0.041667      0.0\n",
      "2       0.111111      0.500000     0.050847      0.041667      0.0\n",
      "3       0.083333      0.458333     0.084746      0.041667      0.0\n",
      "4       0.194444      0.666667     0.067797      0.041667      0.0\n",
      "..           ...           ...          ...           ...      ...\n",
      "145     0.666667      0.416667     0.711864      0.916667      1.0\n",
      "146     0.555556      0.208333     0.677966      0.750000      1.0\n",
      "147     0.611111      0.416667     0.711864      0.791667      1.0\n",
      "148     0.527778      0.583333     0.745763      0.916667      1.0\n",
      "149     0.444444      0.416667     0.694915      0.708333      1.0\n",
      "\n",
      "[150 rows x 5 columns]\n"
     ]
    }
   ],
   "source": [
    "# Normalize = scaling.fit_transform(df[['SepalLength','SepalWidthCm','PetalLength','PetalWidthCm']])\n",
    "scaler = MinMaxScaler()\n",
    "loan=pd.DataFrame(scaler.fit_transform(df),\n",
    "            columns=df.columns, index=df.index) \n",
    "loan.to_excel(r'C:\\Users\\ACER\\Documents\\PNN\\ekspor.xlsx', index = False)\n",
    "print(loan)"
   ]
  }
 ],
 "metadata": {
  "kernelspec": {
   "display_name": "Python 3",
   "language": "python",
   "name": "python3"
  },
  "language_info": {
   "codemirror_mode": {
    "name": "ipython",
    "version": 3
   },
   "file_extension": ".py",
   "mimetype": "text/x-python",
   "name": "python",
   "nbconvert_exporter": "python",
   "pygments_lexer": "ipython3",
   "version": "3.8.3"
  }
 },
 "nbformat": 4,
 "nbformat_minor": 4
}
